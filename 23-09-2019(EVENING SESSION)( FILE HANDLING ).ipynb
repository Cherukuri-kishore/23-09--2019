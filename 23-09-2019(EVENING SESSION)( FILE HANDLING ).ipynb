{
 "cells": [
  {
   "cell_type": "markdown",
   "metadata": {},
   "source": [
    "# FILE HANDLING\n",
    "- READ  \n",
    "- WRITE\n",
    "- APPEND\n",
    "\n",
    "\n",
    "- 1ST METHOD\n",
    "-- FOPEN OR FCLOSE\n",
    "\n",
    "- 2ND METHOD\n",
    "-- WITH OPEN"
   ]
  },
  {
   "cell_type": "code",
   "execution_count": 11,
   "metadata": {},
   "outputs": [
    {
     "data": {
      "text/plain": [
       "' WELCOME TO THE WORLD\\n  \\n if you are allowed'"
      ]
     },
     "execution_count": 11,
     "metadata": {},
     "output_type": "execute_result"
    }
   ],
   "source": [
    "filepath=\"data_files/tittled.txt\"\n",
    "f = open(filepath,'r')\n",
    "filedata=f.read()\n",
    "f.close()\n",
    "filedata"
   ]
  },
  {
   "cell_type": "code",
   "execution_count": 22,
   "metadata": {},
   "outputs": [
    {
     "data": {
      "text/plain": [
       "' you are always welcome'"
      ]
     },
     "execution_count": 22,
     "metadata": {},
     "output_type": "execute_result"
    }
   ],
   "source": [
    "filepath=\"data_files/tittled.txt\"\n",
    "f = open(filepath,'w')\n",
    "filedata=f.write(' you are always welcome' )\n",
    "f.close()\n",
    "f = open(filepath,'r')\n",
    "filedata=f.read()\n",
    "f.close()\n",
    "filedata"
   ]
  },
  {
   "cell_type": "code",
   "execution_count": 28,
   "metadata": {},
   "outputs": [
    {
     "data": {
      "text/plain": [
       "' you are always welcome thank you  thank you  thank you  thank you  thank you  \\n thank you '"
      ]
     },
     "execution_count": 28,
     "metadata": {},
     "output_type": "execute_result"
    }
   ],
   "source": [
    "filepath=\"data_files/tittled.txt\"\n",
    "f = open(filepath,'a')\n",
    "filedata=f.write(\" \\n thank you \")\n",
    "f = open(filepath,'r')\n",
    "filedata=f.read()\n",
    "f.close()\n",
    "filedata"
   ]
  },
  {
   "cell_type": "markdown",
   "metadata": {},
   "source": [
    "#### method 2"
   ]
  },
  {
   "cell_type": "code",
   "execution_count": 35,
   "metadata": {},
   "outputs": [
    {
     "data": {
      "text/plain": [
       "'good afternoon'"
      ]
     },
     "execution_count": 35,
     "metadata": {},
     "output_type": "execute_result"
    }
   ],
   "source": [
    "filepath=\"data_files/tittled.txt\"\n",
    "with open (filepath,\"r\") as f:\n",
    "    filedata=f.read()\n",
    "filedata"
   ]
  },
  {
   "cell_type": "code",
   "execution_count": 66,
   "metadata": {},
   "outputs": [
    {
     "name": "stdout",
     "output_type": "stream",
     "text": [
      "g\n",
      "o\n",
      "o\n",
      "d\n",
      " \n",
      "a\n",
      "f\n",
      "t\n",
      "e\n",
      "r\n",
      "n\n",
      "o\n",
      "o\n",
      "n\n",
      " \n",
      "t\n",
      "o\n",
      " \n",
      "e\n",
      "v\n",
      "e\n",
      "r\n",
      "y\n",
      "o\n",
      "n\n",
      "e\n"
     ]
    },
    {
     "data": {
      "text/plain": [
       "'good afternoon to everyone'"
      ]
     },
     "execution_count": 66,
     "metadata": {},
     "output_type": "execute_result"
    }
   ],
   "source": [
    "filepath=\"data_files/tittled.txt\"\n",
    "with open (filepath,\"r\") as f:\n",
    "    filedata=f.read()\n",
    "    for line in filedata:\n",
    "        print(line)\n",
    "filedata"
   ]
  },
  {
   "cell_type": "code",
   "execution_count": 63,
   "metadata": {
    "scrolled": true
   },
   "outputs": [
    {
     "name": "stdout",
     "output_type": "stream",
     "text": [
      "good afternoon to everyone present here now\n",
      " to\n",
      " multiskill dovelopment program "
     ]
    }
   ],
   "source": [
    "filepath=\"data_files/tittled.txt\"\n",
    "with open (filepath,\"r\") as f:\n",
    "    for line in f:\n",
    "        print(line,end=' ')"
   ]
  },
  {
   "cell_type": "code",
   "execution_count": 82,
   "metadata": {},
   "outputs": [],
   "source": [
    "filepath=\"data_files/tittled.txt\"\n",
    "with open (filepath,\"w\") as f:\n",
    "    filedata=f.write('good afternoon to everyone present here now')\n",
    "    with open (filepath,\"r\") as f:\n",
    "        for line in f:\n",
    "            print(line,end=\" \")"
   ]
  },
  {
   "cell_type": "code",
   "execution_count": null,
   "metadata": {},
   "outputs": [],
   "source": []
  },
  {
   "cell_type": "markdown",
   "metadata": {},
   "source": [
    "# task 1\n",
    "### Write a Python program to read a file line by line and store it into a list "
   ]
  },
  {
   "cell_type": "code",
   "execution_count": 4,
   "metadata": {},
   "outputs": [
    {
     "name": "stdout",
     "output_type": "stream",
     "text": [
      "['Good After-noon\\n', 'Welcome to MSTP']\n"
     ]
    }
   ],
   "source": [
    "filepath=\"data_files/task.txt\"\n",
    "with open(filepath,\"r\") as f:\n",
    "    print(list(f))"
   ]
  },
  {
   "cell_type": "markdown",
   "metadata": {},
   "source": [
    "# task 2\n",
    "### Append a text “Multi Skill Program” in between APSSDC and Python Programming in your file"
   ]
  },
  {
   "cell_type": "code",
   "execution_count": 18,
   "metadata": {},
   "outputs": [],
   "source": []
  },
  {
   "cell_type": "code",
   "execution_count": 28,
   "metadata": {},
   "outputs": [],
   "source": [
    "import re\n",
    "def isword(filepath,word):\n",
    "    with open(filepath,'r')as f:\n",
    "        filedata=f.read()\n",
    "        pattern='[\\n]'\n",
    "        p=re.split(pattern,filedata)\n",
    "        if word in p:\n",
    "            return True\n",
    "        else:\n",
    "            return False\n",
    "filepath=\"data_files/task_2.txt\"\n",
    "word='APSSDC'\n",
    "m=\"MultiSkillProgram\"\n",
    "with open (filepath,'r')as g:\n",
    "    if isword(filepath,word)==True:\n",
    "        filedata=g.read()\n",
    "        pattern='[ \\n ]'\n",
    "        x=re.split(pattern,filedata)\n",
    "        p=x.index(word)\n",
    "        x.insert(p+1,m)\n",
    "    with open (filepath,'w') as w:\n",
    "        data=\"\\n\".join(x)\n",
    "        filedata=w.write(data)"
   ]
  },
  {
   "cell_type": "markdown",
   "metadata": {},
   "source": [
    "# task 3\n",
    "### Generate a marks list using random module of 100 students, and write a function to implement how many students are passed, failed, and distinction"
   ]
  },
  {
   "cell_type": "code",
   "execution_count": 67,
   "metadata": {},
   "outputs": [
    {
     "name": "stdout",
     "output_type": "stream",
     "text": [
      "0   number of students failed\n",
      "0   number of students passed\n",
      "0   number of students are in distinction\n"
     ]
    }
   ],
   "source": [
    "\n",
    "def randomnum(n):\n",
    "    \n",
    "    import math\n",
    "    for i in range(n):\n",
    "        import random as r\n",
    "        z=r.randint(1,100)\n",
    "        filedata=f.write(str(z))\n",
    "        filedata=f.write(\"\\n\")\n",
    "        \n",
    "filepath=\"data_files/task_3.txt\"\n",
    "f = open(filepath,'w')\n",
    "n=100\n",
    "randomnum(n)\n",
    "f=open(filepath,'r')\n",
    "filedata=f.read()\n",
    "c1=0\n",
    "c2=0\n",
    "c3=0\n",
    "for i in filedata:\n",
    "    if line!='\\n':\n",
    "        if ( int(i) >= 35  or int(i) < 75):\n",
    "            c1+=1\n",
    "        elif (i)>=75:\n",
    "            c2+=1\n",
    "        else:\n",
    "            c3+=1\n",
    "print(c3,'  number of students failed')\n",
    "print(c1,'  number of students passed')\n",
    "print(c2,'  number of students are in distinction')"
   ]
  },
  {
   "cell_type": "code",
   "execution_count": null,
   "metadata": {},
   "outputs": [],
   "source": []
  }
 ],
 "metadata": {
  "kernelspec": {
   "display_name": "Python 3",
   "language": "python",
   "name": "python3"
  },
  "language_info": {
   "codemirror_mode": {
    "name": "ipython",
    "version": 3
   },
   "file_extension": ".py",
   "mimetype": "text/x-python",
   "name": "python",
   "nbconvert_exporter": "python",
   "pygments_lexer": "ipython3",
   "version": "3.7.3"
  }
 },
 "nbformat": 4,
 "nbformat_minor": 2
}
